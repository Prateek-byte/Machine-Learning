{
  "nbformat": 4,
  "nbformat_minor": 0,
  "metadata": {
    "colab": {
      "provenance": []
    },
    "kernelspec": {
      "name": "python3",
      "display_name": "Python 3"
    },
    "language_info": {
      "name": "python"
    }
  },
  "cells": [
    {
      "cell_type": "code",
      "execution_count": null,
      "metadata": {
        "id": "kzq1hDfYBHjT"
      },
      "outputs": [],
      "source": [
        "data = [25,27,27,29,250]"
      ]
    },
    {
      "cell_type": "code",
      "source": [
        "import numpy as np\n",
        "\n",
        "np.mean(data)\n",
        "np.median(data)\n",
        "np.std(data)"
      ],
      "metadata": {
        "colab": {
          "base_uri": "https://localhost:8080/"
        },
        "id": "orlodk7GDGcr",
        "outputId": "768b0781-4de5-43b0-cc39-e1c3b036f6eb"
      },
      "execution_count": null,
      "outputs": [
        {
          "output_type": "execute_result",
          "data": {
            "text/plain": [
              "np.float64(89.20896815903656)"
            ]
          },
          "metadata": {},
          "execution_count": 4
        }
      ]
    }
  ]
}